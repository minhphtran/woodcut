{
 "cells": [
  {
   "cell_type": "code",
   "execution_count": 1,
   "id": "52dc35ba",
   "metadata": {},
   "outputs": [],
   "source": [
    "from pulp import *\n",
    "import numpy as np"
   ]
  },
  {
   "cell_type": "code",
   "execution_count": 2,
   "id": "30bc408a",
   "metadata": {},
   "outputs": [],
   "source": [
    "materials = [115, 115, 220, 180, 112, 112]\n",
    "required_lengths = [40, 36.4, 34]\n",
    "frequencies = [11, 6, 2]\n",
    "cut_width = 1.5"
   ]
  },
  {
   "cell_type": "code",
   "execution_count": 3,
   "id": "9efa1184",
   "metadata": {},
   "outputs": [
    {
     "data": {
      "text/plain": [
       "'11 x 40m; 6 x 36.4m; 2 x 34m'"
      ]
     },
     "execution_count": 3,
     "metadata": {},
     "output_type": "execute_result"
    }
   ],
   "source": [
    "\"; \".join([f\"{j} x {i}m\" for i, j in zip(required_lengths, frequencies)])"
   ]
  },
  {
   "cell_type": "code",
   "execution_count": null,
   "id": "50ba71cf",
   "metadata": {},
   "outputs": [],
   "source": []
  },
  {
   "cell_type": "code",
   "execution_count": 22,
   "id": "033ffa24",
   "metadata": {},
   "outputs": [],
   "source": [
    "def optim_cut(woods, num_pieces, required_lengths, frequencies, cut_width):\n",
    "    pieces = [(\"piece{}.{}\".format(woods[i], j), woods[i]) for i in range(len(woods)) for j in range(num_pieces[i])]\n",
    "    lens = [f'len{l}' for l in required_lengths]\n",
    "    \n",
    "    pieces_var = [dict(\n",
    "        val = p[1], \n",
    "        len_var = pulp.LpVariable.dicts(p[0], lens, lowBound = 0, cat = \"Integer\"),\n",
    "        leftover_var = LpVariable(f\"{p[0]}_leftover\", lowBound = 0, cat = \"Continuous\")\n",
    "    )  for p in pieces]\n",
    "    n = LpVariable(\"n\", lowBound = 0, cat = \"Integer\")\n",
    "    leftover_max = LpVariable(\"leftover_max\", lowBound = 0, upBound = max(materials), cat = \"Continuous\")\n",
    "    \n",
    "    prob = LpProblem(\"wood_cut\", LpMaximize)\n",
    "    prob += lpSum([10e5 * n, leftover_max]) \n",
    "    \n",
    "    for p in pieces_var:\n",
    "        prob += lpSum([i * (j + cut_width) for i, j in zip(p['len_var'].values(), required_lengths)] +\n",
    "                    p['leftover_var']\n",
    "                   ) == p['val']\n",
    "        prob += lpSum([p['leftover_var'], -leftover_max]) >= 0\n",
    "    \n",
    "    for l, f in zip(lens, frequencies):\n",
    "        prob += lpSum([f * n] + [-p['len_var'][l] for p in pieces_var])  <= 0\n",
    "    prob.solve(CPLEX_PY())\n",
    "    return (pieces_var, int(n.varValue))"
   ]
  },
  {
   "cell_type": "code",
   "execution_count": 23,
   "id": "79a770c0",
   "metadata": {},
   "outputs": [
    {
     "name": "stdout",
     "output_type": "stream",
     "text": [
      "Version identifier: 22.1.0.0 | 2022-03-09 | 1a383f8ce\n",
      "CPXPARAM_Read_DataCheck                          1\n",
      "Found incumbent of value 0.000000 after 0.00 sec. (0.00 ticks)\n",
      "Tried aggregator 2 times.\n",
      "Aggregator did 15 substitutions.\n",
      "Reduced MIP has 18 rows, 47 columns, and 108 nonzeros.\n",
      "Reduced MIP has 0 binaries, 46 generals, 0 SOSs, and 0 indicators.\n",
      "Presolve time = 0.00 sec. (0.10 ticks)\n",
      "Tried aggregator 1 time.\n",
      "Detecting symmetries...\n",
      "Reduced MIP has 18 rows, 47 columns, and 108 nonzeros.\n",
      "Reduced MIP has 0 binaries, 46 generals, 0 SOSs, and 0 indicators.\n",
      "Presolve time = 0.00 sec. (0.09 ticks)\n",
      "MIP emphasis: balance optimality and feasibility.\n",
      "MIP search method: dynamic search.\n",
      "Parallel mode: deterministic, using up to 8 threads.\n",
      "Root relaxation solution time = 0.00 sec. (0.08 ticks)\n",
      "\n",
      "        Nodes                                         Cuts/\n",
      "   Node  Left     Objective  IInf  Best Integer    Best Bound    ItCnt     Gap\n",
      "\n",
      "*     0+    0                            0.0000  5000150.0000              --- \n",
      "*     0+    0                          150.0000  5000150.0000              --- \n",
      "      0     0  3642866.6048    18      150.0000  3642866.6048       31     --- \n",
      "*     0+    0                      3000006.9000  3642866.6048            21.43%\n",
      "      0     0  3000032.3533    23  3000006.9000    MIRcuts: 6       45    0.00%\n",
      "*     0+    0                      3000010.5000  3000032.3533             0.00%\n",
      "\n",
      "Mixed integer rounding cuts applied:  6\n",
      "\n",
      "Root node processing (before b&c):\n",
      "  Real time             =    0.06 sec. (0.64 ticks)\n",
      "Parallel b&c, 8 threads:\n",
      "  Real time             =    0.00 sec. (0.00 ticks)\n",
      "  Sync time (average)   =    0.00 sec.\n",
      "  Wait time (average)   =    0.00 sec.\n",
      "                          ------------\n",
      "Total (root+branch&cut) =    0.06 sec. (0.64 ticks)\n",
      "Cplex status= 102\n"
     ]
    }
   ],
   "source": [
    "materials = [200] * 10 + [150] * 5\n",
    "(woods, num_pieces) = np.unique(materials, return_counts = True)\n",
    "(pieces_res, n_res) = optim_cut(woods, num_pieces, required_lengths, frequencies, cut_width)"
   ]
  },
  {
   "cell_type": "code",
   "execution_count": 60,
   "id": "2b19eecb",
   "metadata": {},
   "outputs": [],
   "source": [
    "res, freq = np.unique([(\"{}m-length piece: \".format(p['val']) +  \n",
    "            '; '.join([\"{} x {}m\".format(int(j.varValue), i[3:])for i,j in p['len_var'].items() if j.varValue > 0])+ \n",
    "            \"({}m left)\".format(p['leftover_var'].varValue))\n",
    "           for p in pieces_res],\n",
    "          return_counts = True)"
   ]
  },
  {
   "cell_type": "code",
   "execution_count": 65,
   "id": "bec285a8",
   "metadata": {},
   "outputs": [],
   "source": [
    "import re"
   ]
  },
  {
   "cell_type": "code",
   "execution_count": 72,
   "id": "0473476a",
   "metadata": {},
   "outputs": [
    {
     "data": {
      "text/plain": [
       "['150m-length piece:  2 x 40m; 1 x 34m(31.5m left)',\n",
       " '150m-length piece:  2 x 40m; 1 x 36.4m(29.099999999999994m left)',\n",
       " '150m-length piece:  3 x 36.4m(36.30000000000001m left)',\n",
       " '150m-length piece: 2 times 3 x 40m(25.5m left)',\n",
       " '200m-length piece:  3 x 40m; 1 x 36.4m(37.599999999999994m left)',\n",
       " '200m-length piece: 2 times 4 x 36.4m(48.400000000000006m left)',\n",
       " '200m-length piece: 5 times 4 x 40m(34.0m left)',\n",
       " '200m-length piece:  5 x 34m(22.5m left)',\n",
       " '200m-length piece:  5 x 36.4m(10.5m left)']"
      ]
     },
     "execution_count": 72,
     "metadata": {},
     "output_type": "execute_result"
    }
   ],
   "source": [
    "[re.sub(': ', f\": {j} \", i)  for i, j in zip (res, list(map(lambda k: f'{k} times' if k > 1 else '', freq)))]"
   ]
  },
  {
   "cell_type": "code",
   "execution_count": 24,
   "id": "bb974dd1",
   "metadata": {
    "scrolled": true
   },
   "outputs": [
    {
     "name": "stdout",
     "output_type": "stream",
     "text": [
      "150m-length piece: \n",
      "2 x 40m; 1 x 34m\n",
      "(31.5m left)\n",
      "150m-length piece: \n",
      "3 x 36.4m\n",
      "(36.30000000000001m left)\n",
      "150m-length piece: \n",
      "2 x 40m; 1 x 36.4m\n",
      "(29.099999999999994m left)\n",
      "150m-length piece: \n",
      "3 x 40m\n",
      "(25.5m left)\n",
      "150m-length piece: \n",
      "3 x 40m\n",
      "(25.5m left)\n",
      "200m-length piece: \n",
      "3 x 40m; 1 x 36.4m\n",
      "(37.599999999999994m left)\n",
      "200m-length piece: \n",
      "5 x 34m\n",
      "(22.5m left)\n",
      "200m-length piece: \n",
      "4 x 40m\n",
      "(34.0m left)\n",
      "200m-length piece: \n",
      "4 x 40m\n",
      "(34.0m left)\n",
      "200m-length piece: \n",
      "4 x 40m\n",
      "(34.0m left)\n",
      "200m-length piece: \n",
      "4 x 36.4m\n",
      "(48.400000000000006m left)\n",
      "200m-length piece: \n",
      "4 x 40m\n",
      "(34.0m left)\n",
      "200m-length piece: \n",
      "5 x 36.4m\n",
      "(10.5m left)\n",
      "200m-length piece: \n",
      "4 x 40m\n",
      "(34.0m left)\n",
      "200m-length piece: \n",
      "4 x 36.4m\n",
      "(48.400000000000006m left)\n"
     ]
    }
   ],
   "source": [
    "for p in pieces_res:\n",
    "    print(f\"{p['val']}m-length piece: \")\n",
    "    print('; '.join([\"{} x {}m\".format(int(j.varValue), i[3:])for i,j in p['len_var'].items() if j.varValue > 0]))\n",
    "    print(\"({}m left)\".format(p['leftover_var'].varValue))"
   ]
  },
  {
   "cell_type": "code",
   "execution_count": null,
   "id": "8d7e2ef8",
   "metadata": {},
   "outputs": [],
   "source": []
  },
  {
   "cell_type": "code",
   "execution_count": 7,
   "id": "3acad588",
   "metadata": {},
   "outputs": [],
   "source": [
    "lens = [f'len{l}' for l in required_lengths]"
   ]
  },
  {
   "cell_type": "code",
   "execution_count": 8,
   "id": "9875f3bd",
   "metadata": {},
   "outputs": [],
   "source": [
    "(woods, num_pieces) = np.unique(materials, return_counts = True)\n",
    "pieces = [(\"piece{}.{}\".format(woods[i], j), woods[i]) for i in range(len(woods)) for j in range(num_pieces[i])]"
   ]
  },
  {
   "cell_type": "code",
   "execution_count": 9,
   "id": "78165c45",
   "metadata": {},
   "outputs": [],
   "source": [
    "pieces_var = [dict(\n",
    "    val = p[1], \n",
    "    len_var = pulp.LpVariable.dicts(p[0], lens, lowBound = 0, cat = \"Integer\"),\n",
    "    leftover_var = LpVariable(f\"{p[0]}_leftover\", lowBound = 0, cat = \"Continuous\")\n",
    ")  for p in pieces]"
   ]
  },
  {
   "cell_type": "code",
   "execution_count": 10,
   "id": "b4531b98",
   "metadata": {},
   "outputs": [],
   "source": [
    "n = LpVariable(\"n\", lowBound = 0, cat = \"Integer\")\n",
    "leftover_max = LpVariable(\"leftover_max\", lowBound = 0, upBound = max(materials), cat = \"Continuous\")"
   ]
  },
  {
   "cell_type": "code",
   "execution_count": 11,
   "id": "420fdacf",
   "metadata": {
    "scrolled": true
   },
   "outputs": [],
   "source": [
    "prob = LpProblem(\"wood_cut\", LpMaximize)"
   ]
  },
  {
   "cell_type": "code",
   "execution_count": 12,
   "id": "4499bb8a",
   "metadata": {},
   "outputs": [],
   "source": [
    "prob += lpSum([10e5 * n, leftover_max]) "
   ]
  },
  {
   "cell_type": "code",
   "execution_count": 13,
   "id": "6dfcaecc",
   "metadata": {},
   "outputs": [],
   "source": [
    "for p in pieces_var:\n",
    "    prob += lpSum([i * (j + cut_width) for i, j in zip(p['len_var'].values(), required_lengths)] +\n",
    "                p['leftover_var']\n",
    "               ) == p['val']\n",
    "    prob += lpSum([-p['leftover_var'], leftover_max]) >= 0"
   ]
  },
  {
   "cell_type": "code",
   "execution_count": 14,
   "id": "5860e6ce",
   "metadata": {},
   "outputs": [],
   "source": [
    "for l, f in zip(lens, frequencies):\n",
    "    prob += lpSum([f * n] + [-p['len_var'][l] for p in pieces_var])  <= 0"
   ]
  },
  {
   "cell_type": "code",
   "execution_count": 15,
   "id": "c248e9c8",
   "metadata": {},
   "outputs": [
    {
     "data": {
      "text/plain": [
       "1"
      ]
     },
     "execution_count": 15,
     "metadata": {},
     "output_type": "execute_result"
    }
   ],
   "source": [
    "prob.solve()"
   ]
  },
  {
   "cell_type": "code",
   "execution_count": 16,
   "id": "1f580ac7",
   "metadata": {},
   "outputs": [
    {
     "data": {
      "text/plain": [
       "1.0"
      ]
     },
     "execution_count": 16,
     "metadata": {},
     "output_type": "execute_result"
    }
   ],
   "source": [
    "n.varValue"
   ]
  },
  {
   "cell_type": "code",
   "execution_count": 17,
   "id": "c431a1c3",
   "metadata": {},
   "outputs": [
    {
     "data": {
      "text/plain": [
       "<pulp.apis.cplex_api.CPLEX_PY at 0x7feccce1b450>"
      ]
     },
     "execution_count": 17,
     "metadata": {},
     "output_type": "execute_result"
    }
   ],
   "source": [
    "CPLEX_PY()"
   ]
  },
  {
   "cell_type": "code",
   "execution_count": 18,
   "id": "66061f33",
   "metadata": {
    "scrolled": true
   },
   "outputs": [
    {
     "name": "stderr",
     "output_type": "stream",
     "text": [
      "/Users/minh/opt/anaconda3/lib/python3.7/site-packages/pulp/apis/gurobi_api.py:357: UserWarning: GUROBI error: Set parameter LogFile to value \"gurobi.log\"\n",
      "\n",
      "Failed to set up a license\n",
      "\n",
      "Error 10009: No Gurobi license found (user minh, host minhs-mbp.home, hostid c22568c4, cores 4)\n",
      "\n",
      "\n",
      ".\n",
      "  warnings.warn(\"GUROBI error: {}.\".format(out))\n"
     ]
    },
    {
     "data": {
      "text/plain": [
       "['CPLEX_PY', 'PULP_CBC_CMD']"
      ]
     },
     "execution_count": 18,
     "metadata": {},
     "output_type": "execute_result"
    }
   ],
   "source": [
    "listSolvers(onlyAvailable=True)"
   ]
  },
  {
   "cell_type": "code",
   "execution_count": null,
   "id": "c96f1584",
   "metadata": {},
   "outputs": [],
   "source": []
  },
  {
   "cell_type": "code",
   "execution_count": null,
   "id": "3ec249f1",
   "metadata": {},
   "outputs": [],
   "source": [
    "w = [115, 115, 220, 180, 112, 112]\n",
    "p = [40, 34, 36.4]\n",
    "f = [11, 2, 6]\n",
    "c = 1.5"
   ]
  },
  {
   "cell_type": "code",
   "execution_count": null,
   "id": "6d19f1d7",
   "metadata": {},
   "outputs": [],
   "source": [
    "n_var_each = len(p) + 1\n",
    "n_mat = len(w)"
   ]
  },
  {
   "cell_type": "code",
   "execution_count": null,
   "id": "651b1e80",
   "metadata": {},
   "outputs": [],
   "source": [
    "(wood, num) = np.unique(w, return_counts = True)\n",
    "name_var = sum([[\"{}_piece{}_{}\".format(k, wood[i], j) for j in range(num[i]) \\\n",
    "                 for k in [\"leftover\"] + [\"len{}\".format(i) for i in p]] for i in range(len(wood))], []) + ['n', 'leftover_max']"
   ]
  },
  {
   "cell_type": "code",
   "execution_count": null,
   "id": "b091ab98",
   "metadata": {},
   "outputs": [],
   "source": [
    "x_var = [LpVariable(i, lowBound = 0, cat = j) for i, j in zip(name_var, type_var)]\n",
    "n_var = len(x_var)"
   ]
  },
  {
   "cell_type": "code",
   "execution_count": null,
   "id": "d53d0628",
   "metadata": {
    "scrolled": true
   },
   "outputs": [],
   "source": [
    "coef_var = np.zeros(n_var)"
   ]
  },
  {
   "cell_type": "code",
   "execution_count": null,
   "id": "7766174b",
   "metadata": {},
   "outputs": [],
   "source": [
    "prob = LpProblem(\"test\", LpMaximize)"
   ]
  },
  {
   "cell_type": "code",
   "execution_count": null,
   "id": "d59c4eac",
   "metadata": {},
   "outputs": [],
   "source": [
    "coef_obj = coef_var.copy()\n",
    "\n",
    "coef_obj[-2] = 1\n",
    "\n",
    "prob += lpSum([x_var[i] * coef_obj[i] for i in range(n_var)])"
   ]
  },
  {
   "cell_type": "code",
   "execution_count": null,
   "id": "90e1758f",
   "metadata": {},
   "outputs": [],
   "source": [
    "coef_ini = [[1] + [i + c for i in p]]\n",
    "for piece in range(n_mat):\n",
    "    \n",
    "    indices = [i + piece * n_var_each for i in range(n_var_each)]\n",
    "    coef_full = coef_var.copy()\n",
    "    coef_full[indices] = coef_ini\n",
    "    prob += lpSum([x_var[i] * coef_full[i] for i in range(n_var)]) == w[piece]\n",
    "    "
   ]
  },
  {
   "cell_type": "code",
   "execution_count": null,
   "id": "54e15593",
   "metadata": {},
   "outputs": [],
   "source": [
    "for t in range(n_var_each - 1):\n",
    "    constr = coef_var.copy()\n",
    "    constr[[i for i in range(n_var - 1) if i % n_var_each == (t + 1)]] = -1\n",
    "    constr[-2] = f[t]\n",
    "    prob += lpSum([x_var[i] * constr[i] for i in range(n_var)]) <= 0"
   ]
  },
  {
   "cell_type": "code",
   "execution_count": null,
   "id": "70fdb1a3",
   "metadata": {
    "scrolled": true
   },
   "outputs": [],
   "source": [
    "prob"
   ]
  },
  {
   "cell_type": "code",
   "execution_count": null,
   "id": "f784ec9e",
   "metadata": {
    "scrolled": true
   },
   "outputs": [],
   "source": [
    "prob.solve()"
   ]
  },
  {
   "cell_type": "code",
   "execution_count": null,
   "id": "7cb83637",
   "metadata": {},
   "outputs": [],
   "source": [
    "prob.objective"
   ]
  },
  {
   "cell_type": "code",
   "execution_count": null,
   "id": "6d20be76",
   "metadata": {},
   "outputs": [],
   "source": [
    "prob.objective.value()"
   ]
  },
  {
   "cell_type": "code",
   "execution_count": null,
   "id": "1fff054d",
   "metadata": {},
   "outputs": [],
   "source": [
    "x_soln = np.array([x_var[i].varValue for i in range(n_var)])"
   ]
  },
  {
   "cell_type": "code",
   "execution_count": null,
   "id": "a8d8eaa8",
   "metadata": {
    "scrolled": true
   },
   "outputs": [],
   "source": [
    "print([\"{}: {}\".format(j, i) for i, j in zip(x_soln, name_var)])"
   ]
  },
  {
   "cell_type": "code",
   "execution_count": null,
   "id": "8195cda7",
   "metadata": {},
   "outputs": [],
   "source": []
  },
  {
   "cell_type": "code",
   "execution_count": 75,
   "id": "ab751112",
   "metadata": {},
   "outputs": [
    {
     "data": {
      "text/plain": [
       "[66, 36, 12, 6]"
      ]
     },
     "execution_count": 75,
     "metadata": {},
     "output_type": "execute_result"
    }
   ],
   "source": [
    "n = 6\n",
    "[i * n for i in [11, 6, 2, 1]]"
   ]
  },
  {
   "cell_type": "code",
   "execution_count": null,
   "id": "afdcc80b",
   "metadata": {},
   "outputs": [],
   "source": []
  }
 ],
 "metadata": {
  "kernelspec": {
   "display_name": "Python 3",
   "language": "python",
   "name": "python3"
  },
  "language_info": {
   "codemirror_mode": {
    "name": "ipython",
    "version": 3
   },
   "file_extension": ".py",
   "mimetype": "text/x-python",
   "name": "python",
   "nbconvert_exporter": "python",
   "pygments_lexer": "ipython3",
   "version": "3.7.4"
  }
 },
 "nbformat": 4,
 "nbformat_minor": 5
}
